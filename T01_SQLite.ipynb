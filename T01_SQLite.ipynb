{
 "cells": [
  {
   "cell_type": "code",
   "execution_count": 1,
   "id": "fe152cf4",
   "metadata": {},
   "outputs": [],
   "source": [
    "import sqlite3 as sql\n",
    "from sqlite3 import Error\n",
    "\n",
    "def connect_db(path):\n",
    "    conn = sql.connect(path)\n",
    "    return conn"
   ]
  },
  {
   "cell_type": "code",
   "execution_count": 2,
   "id": "60acb7ae",
   "metadata": {},
   "outputs": [],
   "source": [
    "db_con = connect_db(\"C:\\\\Users\\\\Toffee\\\\Documents\\\\Coding\\\\SQL\\\\test2.db\")\n",
    "cur = db_con.cursor()"
   ]
  },
  {
   "cell_type": "code",
   "execution_count": 3,
   "id": "1eb5da0d",
   "metadata": {},
   "outputs": [
    {
     "name": "stdout",
     "output_type": "stream",
     "text": [
      "(1, 'John', 'Doe', 'john.doe@testing.com', '+1234567890', 456465.0, '2001-02-10')\n",
      "(2, 'Jane', 'Doe', 'jane.doe@testing.com', '+1234567894', 12345.0, '1995-05-22')\n",
      "(4, 'Sarah', 'Doe', 'sarah.doe@testing.com', '+1234567892', 12345.0, '2012-03-12')\n",
      "(5, 'Bob', 'Doe', 'bob.doe@testing.com', '+1234567891', 121231231.0, '2022-08-15')\n",
      "(6, 'Ali', 'Mohammad', 'unassigned_@testing.com', '+123123132', 12123.0, '1899-05-24')\n"
     ]
    }
   ],
   "source": [
    "for row in cur.execute('SELECT * FROM contacts'):\n",
    "    print (row)\n",
    "    "
   ]
  },
  {
   "cell_type": "code",
   "execution_count": 4,
   "id": "c4b9ca83",
   "metadata": {},
   "outputs": [
    {
     "name": "stdout",
     "output_type": "stream",
     "text": [
      "(2, 'Jane', 'Doe', 'jane.doe@testing.com', '+1234567894', 12345.0, '1995-05-22')\n",
      "(4, 'Sarah', 'Doe', 'sarah.doe@testing.com', '+1234567892', 12345.0, '2012-03-12')\n",
      "(6, 'Ali', 'Mohammad', 'unassigned_@testing.com', '+123123132', 12123.0, '1899-05-24')\n"
     ]
    }
   ],
   "source": [
    "cur.execute(\"DELETE FROM contacts WHERE salary > 20000\")\n",
    "for row in cur.execute('SELECT * FROM contacts'):\n",
    "    print (row)"
   ]
  },
  {
   "cell_type": "code",
   "execution_count": 5,
   "id": "81742a91",
   "metadata": {},
   "outputs": [],
   "source": [
    "db_con.rollback()"
   ]
  },
  {
   "cell_type": "code",
   "execution_count": 6,
   "id": "db3fc607",
   "metadata": {},
   "outputs": [
    {
     "name": "stdout",
     "output_type": "stream",
     "text": [
      "(1, 'John', 'Doe', 'john.doe@testing.com', '+1234567890', 456465.0, '2001-02-10')\n",
      "(2, 'Jane', 'Doe', 'jane.doe@testing.com', '+1234567894', 12345.0, '1995-05-22')\n",
      "(4, 'Sarah', 'Doe', 'sarah.doe@testing.com', '+1234567892', 12345.0, '2012-03-12')\n",
      "(5, 'Bob', 'Doe', 'bob.doe@testing.com', '+1234567891', 121231231.0, '2022-08-15')\n",
      "(6, 'Ali', 'Mohammad', 'unassigned_@testing.com', '+123123132', 12123.0, '1899-05-24')\n"
     ]
    }
   ],
   "source": [
    "for row in cur.execute('SELECT * FROM contacts'):\n",
    "    print (row)"
   ]
  },
  {
   "cell_type": "code",
   "execution_count": 7,
   "id": "877642f9",
   "metadata": {},
   "outputs": [],
   "source": [
    "import pandas as pd"
   ]
  },
  {
   "cell_type": "code",
   "execution_count": 8,
   "id": "e6925d98",
   "metadata": {},
   "outputs": [
    {
     "data": {
      "text/html": [
       "<div>\n",
       "<style scoped>\n",
       "    .dataframe tbody tr th:only-of-type {\n",
       "        vertical-align: middle;\n",
       "    }\n",
       "\n",
       "    .dataframe tbody tr th {\n",
       "        vertical-align: top;\n",
       "    }\n",
       "\n",
       "    .dataframe thead th {\n",
       "        text-align: right;\n",
       "    }\n",
       "</style>\n",
       "<table border=\"1\" class=\"dataframe\">\n",
       "  <thead>\n",
       "    <tr style=\"text-align: right;\">\n",
       "      <th></th>\n",
       "      <th>contact_id</th>\n",
       "      <th>firstname</th>\n",
       "      <th>lastname</th>\n",
       "      <th>email</th>\n",
       "      <th>phone</th>\n",
       "      <th>salary</th>\n",
       "      <th>DoB</th>\n",
       "    </tr>\n",
       "  </thead>\n",
       "  <tbody>\n",
       "    <tr>\n",
       "      <th>0</th>\n",
       "      <td>1</td>\n",
       "      <td>John</td>\n",
       "      <td>Doe</td>\n",
       "      <td>john.doe@testing.com</td>\n",
       "      <td>+1234567890</td>\n",
       "      <td>456465.0</td>\n",
       "      <td>2001-02-10</td>\n",
       "    </tr>\n",
       "    <tr>\n",
       "      <th>1</th>\n",
       "      <td>2</td>\n",
       "      <td>Jane</td>\n",
       "      <td>Doe</td>\n",
       "      <td>jane.doe@testing.com</td>\n",
       "      <td>+1234567894</td>\n",
       "      <td>12345.0</td>\n",
       "      <td>1995-05-22</td>\n",
       "    </tr>\n",
       "    <tr>\n",
       "      <th>2</th>\n",
       "      <td>4</td>\n",
       "      <td>Sarah</td>\n",
       "      <td>Doe</td>\n",
       "      <td>sarah.doe@testing.com</td>\n",
       "      <td>+1234567892</td>\n",
       "      <td>12345.0</td>\n",
       "      <td>2012-03-12</td>\n",
       "    </tr>\n",
       "    <tr>\n",
       "      <th>3</th>\n",
       "      <td>5</td>\n",
       "      <td>Bob</td>\n",
       "      <td>Doe</td>\n",
       "      <td>bob.doe@testing.com</td>\n",
       "      <td>+1234567891</td>\n",
       "      <td>121231231.0</td>\n",
       "      <td>2022-08-15</td>\n",
       "    </tr>\n",
       "    <tr>\n",
       "      <th>4</th>\n",
       "      <td>6</td>\n",
       "      <td>Ali</td>\n",
       "      <td>Mohammad</td>\n",
       "      <td>unassigned_@testing.com</td>\n",
       "      <td>+123123132</td>\n",
       "      <td>12123.0</td>\n",
       "      <td>1899-05-24</td>\n",
       "    </tr>\n",
       "  </tbody>\n",
       "</table>\n",
       "</div>"
      ],
      "text/plain": [
       "   contact_id firstname  lastname                    email        phone  \\\n",
       "0           1      John       Doe     john.doe@testing.com  +1234567890   \n",
       "1           2      Jane       Doe     jane.doe@testing.com  +1234567894   \n",
       "2           4     Sarah       Doe    sarah.doe@testing.com  +1234567892   \n",
       "3           5       Bob       Doe      bob.doe@testing.com  +1234567891   \n",
       "4           6       Ali  Mohammad  unassigned_@testing.com   +123123132   \n",
       "\n",
       "        salary         DoB  \n",
       "0     456465.0  2001-02-10  \n",
       "1      12345.0  1995-05-22  \n",
       "2      12345.0  2012-03-12  \n",
       "3  121231231.0  2022-08-15  \n",
       "4      12123.0  1899-05-24  "
      ]
     },
     "execution_count": 8,
     "metadata": {},
     "output_type": "execute_result"
    }
   ],
   "source": [
    "pd.read_sql(\"SELECT * FROM contacts\", db_con)"
   ]
  },
  {
   "cell_type": "code",
   "execution_count": null,
   "id": "339c945b",
   "metadata": {},
   "outputs": [],
   "source": []
  }
 ],
 "metadata": {
  "kernelspec": {
   "display_name": "Python 3 (ipykernel)",
   "language": "python",
   "name": "python3"
  },
  "language_info": {
   "codemirror_mode": {
    "name": "ipython",
    "version": 3
   },
   "file_extension": ".py",
   "mimetype": "text/x-python",
   "name": "python",
   "nbconvert_exporter": "python",
   "pygments_lexer": "ipython3",
   "version": "3.9.12"
  }
 },
 "nbformat": 4,
 "nbformat_minor": 5
}
